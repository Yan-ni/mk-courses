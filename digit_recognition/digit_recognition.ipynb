{
 "cells": [
  {
   "cell_type": "code",
   "execution_count": 1,
   "metadata": {
    "cell_id": "3eacd63ec1074186a7e7111dd975eb58",
    "deepnote_cell_type": "code",
    "execution_context_id": "9f169289-7bff-4ee4-aef4-0264e83957d4",
    "execution_millis": 3247,
    "execution_start": 1732785396081,
    "source_hash": "2bb4202d"
   },
   "outputs": [],
   "source": [
    "import pandas as pd\n",
    "import numpy as np\n",
    "import matplotlib.pyplot as plt\n",
    "from sklearn.model_selection import train_test_split\n",
    "from sklearn.ensemble import RandomForestClassifier\n",
    "from sklearn.metrics import classification_report, accuracy_score\n",
    "from PIL import Image\n",
    "import matplotlib.pyplot as plt\n",
    "import numpy as np"
   ]
  },
  {
   "cell_type": "code",
   "execution_count": 2,
   "metadata": {
    "cell_id": "f5fa4ab9b8c94494a9a93cd1341f2a07",
    "deepnote_cell_type": "code",
    "execution_context_id": "9f169289-7bff-4ee4-aef4-0264e83957d4",
    "execution_millis": 1956,
    "execution_start": 1732785399381,
    "source_hash": "fd59a075"
   },
   "outputs": [
    {
     "data": {
      "text/html": [
       "<div>\n",
       "<style scoped>\n",
       "    .dataframe tbody tr th:only-of-type {\n",
       "        vertical-align: middle;\n",
       "    }\n",
       "\n",
       "    .dataframe tbody tr th {\n",
       "        vertical-align: top;\n",
       "    }\n",
       "\n",
       "    .dataframe thead th {\n",
       "        text-align: right;\n",
       "    }\n",
       "</style>\n",
       "<table border=\"1\" class=\"dataframe\">\n",
       "  <thead>\n",
       "    <tr style=\"text-align: right;\">\n",
       "      <th></th>\n",
       "      <th>label</th>\n",
       "      <th>pixel0</th>\n",
       "      <th>pixel1</th>\n",
       "      <th>pixel2</th>\n",
       "      <th>pixel3</th>\n",
       "      <th>pixel4</th>\n",
       "      <th>pixel5</th>\n",
       "      <th>pixel6</th>\n",
       "      <th>pixel7</th>\n",
       "      <th>pixel8</th>\n",
       "      <th>...</th>\n",
       "      <th>pixel774</th>\n",
       "      <th>pixel775</th>\n",
       "      <th>pixel776</th>\n",
       "      <th>pixel777</th>\n",
       "      <th>pixel778</th>\n",
       "      <th>pixel779</th>\n",
       "      <th>pixel780</th>\n",
       "      <th>pixel781</th>\n",
       "      <th>pixel782</th>\n",
       "      <th>pixel783</th>\n",
       "    </tr>\n",
       "  </thead>\n",
       "  <tbody>\n",
       "    <tr>\n",
       "      <th>0</th>\n",
       "      <td>1</td>\n",
       "      <td>0</td>\n",
       "      <td>0</td>\n",
       "      <td>0</td>\n",
       "      <td>0</td>\n",
       "      <td>0</td>\n",
       "      <td>0</td>\n",
       "      <td>0</td>\n",
       "      <td>0</td>\n",
       "      <td>0</td>\n",
       "      <td>...</td>\n",
       "      <td>0</td>\n",
       "      <td>0</td>\n",
       "      <td>0</td>\n",
       "      <td>0</td>\n",
       "      <td>0</td>\n",
       "      <td>0</td>\n",
       "      <td>0</td>\n",
       "      <td>0</td>\n",
       "      <td>0</td>\n",
       "      <td>0</td>\n",
       "    </tr>\n",
       "    <tr>\n",
       "      <th>1</th>\n",
       "      <td>0</td>\n",
       "      <td>0</td>\n",
       "      <td>0</td>\n",
       "      <td>0</td>\n",
       "      <td>0</td>\n",
       "      <td>0</td>\n",
       "      <td>0</td>\n",
       "      <td>0</td>\n",
       "      <td>0</td>\n",
       "      <td>0</td>\n",
       "      <td>...</td>\n",
       "      <td>0</td>\n",
       "      <td>0</td>\n",
       "      <td>0</td>\n",
       "      <td>0</td>\n",
       "      <td>0</td>\n",
       "      <td>0</td>\n",
       "      <td>0</td>\n",
       "      <td>0</td>\n",
       "      <td>0</td>\n",
       "      <td>0</td>\n",
       "    </tr>\n",
       "    <tr>\n",
       "      <th>2</th>\n",
       "      <td>1</td>\n",
       "      <td>0</td>\n",
       "      <td>0</td>\n",
       "      <td>0</td>\n",
       "      <td>0</td>\n",
       "      <td>0</td>\n",
       "      <td>0</td>\n",
       "      <td>0</td>\n",
       "      <td>0</td>\n",
       "      <td>0</td>\n",
       "      <td>...</td>\n",
       "      <td>0</td>\n",
       "      <td>0</td>\n",
       "      <td>0</td>\n",
       "      <td>0</td>\n",
       "      <td>0</td>\n",
       "      <td>0</td>\n",
       "      <td>0</td>\n",
       "      <td>0</td>\n",
       "      <td>0</td>\n",
       "      <td>0</td>\n",
       "    </tr>\n",
       "    <tr>\n",
       "      <th>3</th>\n",
       "      <td>4</td>\n",
       "      <td>0</td>\n",
       "      <td>0</td>\n",
       "      <td>0</td>\n",
       "      <td>0</td>\n",
       "      <td>0</td>\n",
       "      <td>0</td>\n",
       "      <td>0</td>\n",
       "      <td>0</td>\n",
       "      <td>0</td>\n",
       "      <td>...</td>\n",
       "      <td>0</td>\n",
       "      <td>0</td>\n",
       "      <td>0</td>\n",
       "      <td>0</td>\n",
       "      <td>0</td>\n",
       "      <td>0</td>\n",
       "      <td>0</td>\n",
       "      <td>0</td>\n",
       "      <td>0</td>\n",
       "      <td>0</td>\n",
       "    </tr>\n",
       "    <tr>\n",
       "      <th>4</th>\n",
       "      <td>0</td>\n",
       "      <td>0</td>\n",
       "      <td>0</td>\n",
       "      <td>0</td>\n",
       "      <td>0</td>\n",
       "      <td>0</td>\n",
       "      <td>0</td>\n",
       "      <td>0</td>\n",
       "      <td>0</td>\n",
       "      <td>0</td>\n",
       "      <td>...</td>\n",
       "      <td>0</td>\n",
       "      <td>0</td>\n",
       "      <td>0</td>\n",
       "      <td>0</td>\n",
       "      <td>0</td>\n",
       "      <td>0</td>\n",
       "      <td>0</td>\n",
       "      <td>0</td>\n",
       "      <td>0</td>\n",
       "      <td>0</td>\n",
       "    </tr>\n",
       "  </tbody>\n",
       "</table>\n",
       "<p>5 rows × 785 columns</p>\n",
       "</div>"
      ],
      "text/plain": [
       "   label  pixel0  pixel1  pixel2  pixel3  pixel4  pixel5  pixel6  pixel7  \\\n",
       "0      1       0       0       0       0       0       0       0       0   \n",
       "1      0       0       0       0       0       0       0       0       0   \n",
       "2      1       0       0       0       0       0       0       0       0   \n",
       "3      4       0       0       0       0       0       0       0       0   \n",
       "4      0       0       0       0       0       0       0       0       0   \n",
       "\n",
       "   pixel8  ...  pixel774  pixel775  pixel776  pixel777  pixel778  pixel779  \\\n",
       "0       0  ...         0         0         0         0         0         0   \n",
       "1       0  ...         0         0         0         0         0         0   \n",
       "2       0  ...         0         0         0         0         0         0   \n",
       "3       0  ...         0         0         0         0         0         0   \n",
       "4       0  ...         0         0         0         0         0         0   \n",
       "\n",
       "   pixel780  pixel781  pixel782  pixel783  \n",
       "0         0         0         0         0  \n",
       "1         0         0         0         0  \n",
       "2         0         0         0         0  \n",
       "3         0         0         0         0  \n",
       "4         0         0         0         0  \n",
       "\n",
       "[5 rows x 785 columns]"
      ]
     },
     "execution_count": 2,
     "metadata": {},
     "output_type": "execute_result"
    }
   ],
   "source": [
    "df = pd.read_csv(\"train.csv\")\n",
    "df.head()"
   ]
  },
  {
   "cell_type": "code",
   "execution_count": 3,
   "metadata": {
    "cell_id": "2692ae321fa94f06b31ec416f56ba3c5",
    "deepnote_cell_type": "code",
    "execution_context_id": "cc692fd2-54ef-40ad-9644-42a5a97b1e86",
    "execution_millis": 1,
    "execution_start": 1732785401393,
    "source_hash": "2289326c"
   },
   "outputs": [],
   "source": [
    "import matplotlib.pyplot as plt\n",
    "import numpy as np\n",
    "import random\n",
    "\n",
    "def show_image_with_label(df, index=None):\n",
    "    if index is None:\n",
    "        index = random.randint(0, len(df) - 1)\n",
    "    \n",
    "    label = df.iloc[index, 0]\n",
    "    pixels = df.iloc[index, 1:].values\n",
    "    image = pixels.reshape(28, 28)\n",
    "    \n",
    "    plt.imshow(image, cmap='gray')\n",
    "    plt.title(f\"Label: {label} (Index: {index})\")\n",
    "    plt.axis('off')\n",
    "    plt.show()\n"
   ]
  },
  {
   "cell_type": "code",
   "execution_count": 4,
   "metadata": {
    "cell_id": "4379bd3877b6432b80ee3bdfd59d5a3d",
    "deepnote_cell_type": "code",
    "execution_context_id": "cc692fd2-54ef-40ad-9644-42a5a97b1e86",
    "execution_millis": 96,
    "execution_start": 1732785401445,
    "source_hash": "e1e37977"
   },
   "outputs": [
    {
     "data": {
      "image/png": "[encoded data removed]",
      "text/plain": [
       "<Figure size 640x480 with 1 Axes>"
      ]
     },
     "metadata": {},
     "output_type": "display_data"
    }
   ],
   "source": [
    "show_image_with_label(df)"
   ]
  },
  {
   "cell_type": "code",
   "execution_count": 5,
   "metadata": {
    "cell_id": "71748ea49d864ec7adc6dba0a73f342e",
    "deepnote_cell_type": "code",
    "execution_context_id": "f0e852af-98c7-41bb-8215-9a0a3b3bc16d",
    "execution_millis": 0,
    "execution_start": 1732785401590,
    "source_hash": "462c5212"
   },
   "outputs": [],
   "source": [
    "def show_all_numbers(df):\n",
    "    fig, axes = plt.subplots(2, 5, figsize=(12, 6))\n",
    "    unique_labels = df['label'].unique()\n",
    "    \n",
    "    for i, label in enumerate(sorted(unique_labels)):\n",
    "        image_data = df[df['label'] == label].iloc[0, 1:].values\n",
    "        image = image_data.reshape(28, 28)\n",
    "        \n",
    "        ax = axes[i // 5, i % 5]\n",
    "        ax.imshow(image, cmap='gray')\n",
    "        ax.set_title(f\"Label: {label}\")\n",
    "        ax.axis('off')\n",
    "    \n",
    "    plt.tight_layout()\n",
    "    plt.show()\n"
   ]
  },
  {
   "cell_type": "code",
   "execution_count": 6,
   "metadata": {
    "cell_id": "ab6e81901c6e40d09acc0e5cd7bc78c4",
    "deepnote_cell_type": "code",
    "execution_context_id": "9f169289-7bff-4ee4-aef4-0264e83957d4",
    "execution_millis": 715,
    "execution_start": 1732785401645,
    "source_hash": "49943e5f"
   },
   "outputs": [
    {
     "data": {
      "image/png": "[encoded data removed]",
      "text/plain": [
       "<Figure size 1200x600 with 10 Axes>"
      ]
     },
     "metadata": {},
     "output_type": "display_data"
    }
   ],
   "source": [
    "show_all_numbers(df)"
   ]
  },
  {
   "cell_type": "code",
   "execution_count": 7,
   "metadata": {
    "cell_id": "b44a00dc328d4ff7ba2557b5c08500ac",
    "deepnote_cell_type": "code",
    "execution_context_id": "f0e852af-98c7-41bb-8215-9a0a3b3bc16d",
    "execution_millis": 0,
    "execution_start": 1732785402410,
    "source_hash": "b6ef6183"
   },
   "outputs": [],
   "source": [
    "def show_first_n_images(df, number, n):\n",
    "    images = df[df['label'] == number].iloc[:n, 1:].values\n",
    "    \n",
    "    rows = (n + 4) // 5\n",
    "    fig, axes = plt.subplots(rows, 5, figsize=(15, 3 * rows))\n",
    "    \n",
    "    for i, ax in enumerate(axes.flat):\n",
    "        if i < len(images):\n",
    "            image = images[i].reshape(28, 28)\n",
    "            ax.imshow(image, cmap='gray')\n",
    "            ax.set_title(f\"Label: {number}\")\n",
    "        ax.axis('off')\n",
    "    \n",
    "    plt.tight_layout()\n",
    "    plt.show()"
   ]
  },
  {
   "cell_type": "code",
   "execution_count": 8,
   "metadata": {
    "cell_id": "0776bd27b6b1483182455aa7e89c04e1",
    "deepnote_cell_type": "code",
    "execution_context_id": "9f169289-7bff-4ee4-aef4-0264e83957d4",
    "execution_millis": 716,
    "execution_start": 1732785402461,
    "source_hash": "7a2ee80e"
   },
   "outputs": [
    {
     "data": {
      "image/png": "[encoded data removed]",
      "text/plain": [
       "<Figure size 1500x600 with 10 Axes>"
      ]
     },
     "metadata": {},
     "output_type": "display_data"
    }
   ],
   "source": [
    "show_first_n_images(df, 7, 9)"
   ]
  },
  {
   "cell_type": "code",
   "execution_count": 9,
   "metadata": {
    "cell_id": "b4747f971c3f4def912b26c48179e389",
    "deepnote_cell_type": "code",
    "execution_context_id": "f0e852af-98c7-41bb-8215-9a0a3b3bc16d",
    "execution_millis": 0,
    "execution_start": 1732785403221,
    "source_hash": "6ae63388"
   },
   "outputs": [],
   "source": [
    "def show_average_representations(df):\n",
    "    fig, axes = plt.subplots(2, 5, figsize=(12, 6))\n",
    "    unique_labels = df['label'].unique()\n",
    "    \n",
    "    for i, label in enumerate(sorted(unique_labels)):\n",
    "        images = df[df['label'] == label].iloc[:, 1:].values\n",
    "        avg_image = images.mean(axis=0).reshape(28, 28)\n",
    "        \n",
    "        ax = axes[i // 5, i % 5]\n",
    "        ax.imshow(avg_image, cmap='gray')\n",
    "        ax.set_title(f\"Avg Label: {label}\")\n",
    "        ax.axis('off')\n",
    "    \n",
    "    plt.tight_layout()\n",
    "    plt.show()"
   ]
  },
  {
   "cell_type": "code",
   "execution_count": 10,
   "metadata": {
    "cell_id": "deeeefa108d24c3290296b5ce2108341",
    "deepnote_cell_type": "code",
    "execution_context_id": "9f169289-7bff-4ee4-aef4-0264e83957d4",
    "execution_millis": 716,
    "execution_start": 1732785403273,
    "source_hash": "de0cf1ea"
   },
   "outputs": [
    {
     "data": {
      "image/png": "[encoded data removed]",
      "text/plain": [
       "<Figure size 1200x600 with 10 Axes>"
      ]
     },
     "metadata": {},
     "output_type": "display_data"
    }
   ],
   "source": [
    "show_average_representations(df)"
   ]
  },
  {
   "cell_type": "code",
   "execution_count": 11,
   "metadata": {
    "cell_id": "f7baf58b1bf44c0e970964d41adcb257",
    "deepnote_cell_type": "code",
    "execution_context_id": "f0e852af-98c7-41bb-8215-9a0a3b3bc16d",
    "execution_millis": 0,
    "execution_start": 1732785404041,
    "source_hash": "9a15c23f"
   },
   "outputs": [],
   "source": [
    "def train_digit_recognizer(df):\n",
    "    X = df.iloc[:, 1:].values\n",
    "    y = df.iloc[:, 0].values\n",
    "    \n",
    "    X_train, X_test, y_train, y_test = train_test_split(X, y, test_size=0.2, random_state=42)\n",
    "    \n",
    "    model = RandomForestClassifier(n_estimators=100, random_state=42)\n",
    "    model.fit(X_train, y_train)\n",
    "    \n",
    "    y_pred = model.predict(X_test)\n",
    "    print(\"Model Accuracy:\", accuracy_score(y_test, y_pred))\n",
    "    print(classification_report(y_test, y_pred))\n",
    "    \n",
    "    return model\n"
   ]
  },
  {
   "cell_type": "code",
   "execution_count": 12,
   "metadata": {
    "cell_id": "0a267bd5e43940858c4de664f0b9733e",
    "deepnote_cell_type": "code",
    "execution_context_id": "9f169289-7bff-4ee4-aef4-0264e83957d4",
    "execution_millis": 15181,
    "execution_start": 1732785404089,
    "source_hash": "8e34eb30"
   },
   "outputs": [
    {
     "name": "stdout",
     "output_type": "stream",
     "text": [
      "Model Accuracy: 0.9654761904761905\n",
      "              precision    recall  f1-score   support\n",
      "\n",
      "           0       0.98      0.99      0.98       816\n",
      "           1       0.98      0.99      0.99       909\n",
      "           2       0.97      0.96      0.97       846\n",
      "           3       0.96      0.95      0.96       937\n",
      "           4       0.96      0.97      0.96       839\n",
      "           5       0.96      0.96      0.96       702\n",
      "           6       0.97      0.98      0.98       785\n",
      "           7       0.97      0.95      0.96       893\n",
      "           8       0.96      0.96      0.96       835\n",
      "           9       0.94      0.94      0.94       838\n",
      "\n",
      "    accuracy                           0.97      8400\n",
      "   macro avg       0.97      0.97      0.97      8400\n",
      "weighted avg       0.97      0.97      0.97      8400\n",
      "\n"
     ]
    }
   ],
   "source": [
    "model = train_digit_recognizer(df)"
   ]
  },
  {
   "cell_type": "code",
   "execution_count": 13,
   "metadata": {
    "cell_id": "9b3675fde3bd4d5b87002abdd0639d36",
    "deepnote_cell_type": "code",
    "execution_context_id": "9f169289-7bff-4ee4-aef4-0264e83957d4",
    "execution_millis": 0,
    "execution_start": 1732785419321,
    "source_hash": "82cbdd1e"
   },
   "outputs": [],
   "source": [
    "def predict_digit_from_image(model, image_path):\n",
    "    image = Image.open(image_path).convert('L')\n",
    "    image = image.resize((28, 28))\n",
    "    image_data = np.array(image).flatten()\n",
    "    \n",
    "    image_data = image_data / 255.0 * 255\n",
    "\n",
    "    prediction = model.predict([image_data])[0]\n",
    "    confidence = max(model.predict_proba([image_data])[0])\n",
    "    \n",
    "    plt.imshow(image, cmap='gray')\n",
    "    plt.title(f\"Predicted: {prediction} (Confidence: {confidence:.2f})\")\n",
    "    plt.axis('off')\n",
    "    plt.show()"
   ]
  },
  {
   "cell_type": "code",
   "execution_count": 14,
   "metadata": {
    "cell_id": "3e4348994ce6466cb998a2ec1a9755e8",
    "deepnote_cell_type": "code",
    "execution_context_id": "9f169289-7bff-4ee4-aef4-0264e83957d4",
    "execution_millis": 170,
    "execution_start": 1732785657757,
    "source_hash": "1a4a1570"
   },
   "outputs": [
    {
     "data": {
      "image/png": "[encoded data removed]",
      "text/plain": [
       "<Figure size 640x480 with 1 Axes>"
      ]
     },
     "metadata": {},
     "output_type": "display_data"
    }
   ],
   "source": [
    "predict_digit_from_image(model, 'my_image.jpg')"
   ]
  }
 ],
 "metadata": {
  "deepnote_notebook_id": "7323f4cf321c42adbf63030e78b003a8",
  "kernelspec": {
   "display_name": ".venv",
   "language": "python",
   "name": "python3"
  },
  "language_info": {
   "codemirror_mode": {
    "name": "ipython",
    "version": 3
   },
   "file_extension": ".py",
   "mimetype": "text/x-python",
   "name": "python",
   "nbconvert_exporter": "python",
   "pygments_lexer": "ipython3",
   "version": "3.12.5"
  }
 },
 "nbformat": 4,
 "nbformat_minor": 0
}
